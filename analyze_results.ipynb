{
 "cells": [
  {
   "cell_type": "code",
   "execution_count": 1,
   "metadata": {},
   "outputs": [],
   "source": [
    "import pandas, numpy\r\n",
    "\r\n",
    "###############################\r\n",
    "## Data constants\r\n",
    "###############################\r\n",
    "csvFilename = '../results.csv'"
   ]
  },
  {
   "cell_type": "code",
   "execution_count": 66,
   "metadata": {},
   "outputs": [],
   "source": [
    "def report_results ():\r\n",
    "\r\n",
    "    data = pandas.read_csv (csvFilename, sep=',')\r\n",
    "\r\n",
    "    text = ''\r\n",
    "\r\n",
    "    subdf = data[data['index']=='interarrival'].dropna (axis=1, how='all')\r\n",
    "    subdf = subdf.loc[:, [col for col in subdf if 'rate' in col]]\r\n",
    "    text += '+----------------------------------------------------------------------------\\n'\r\n",
    "    text += '| Average interarrival time:\\n'\r\n",
    "    for col in subdf:\r\n",
    "        numberCol = col.replace ('rate', 'number')\r\n",
    "        item = ' overall average time' if col == 'rate' else col.replace ('rate_', ' ').replace ('_', ' ')\r\n",
    "        text += '|   * {0:42} ({1:5}): {2:.2f} min\\n'.format (item, data[numberCol][0], 1/subdf[col].values[0])\r\n",
    "    text += '\\n'\r\n",
    "\r\n",
    "    for radType in ['Staff Radiologist', 'Resident Radiologist']:\r\n",
    "        subdf = data[data['userRole']==radType].dropna (axis=1, how='all')\r\n",
    "        subdf = subdf.loc[:, [col for col in subdf if 'rate' in col]]\r\n",
    "\r\n",
    "        text += '+----------------------------------------------------------------------------\\n'\r\n",
    "        text += '| Average service time by {0}:\\n'.format (radType)\r\n",
    "\r\n",
    "        for col in subdf:\r\n",
    "            item = ' overall average time' if col == 'rate' else col.replace ('rate_', ' ').replace ('_', ' ')\r\n",
    "            text += '|   * {0:42}: {1:.2f} min\\n'.format (item, 1/numpy.mean (subdf[col]))\r\n",
    "\r\n",
    "        text += '\\n'\r\n",
    "    \r\n",
    "    return text\r\n",
    "    \r\n"
   ]
  },
  {
   "cell_type": "code",
   "execution_count": 67,
   "metadata": {},
   "outputs": [
    {
     "name": "stdout",
     "output_type": "stream",
     "text": [
      "+----------------------------------------------------------------------------\n",
      "| Average interarrival time:\n",
      "|   *  overall average time                      ( 6999): 183.42 min\n",
      "|   *  withinHour                                ( 1137): 439.90 min\n",
      "|   *  withinHour diseased                       (  209): 3362.63 min\n",
      "|   *  withinHour nonDiseased                    (  928): 420.71 min\n",
      "|   *  withinHour nonDiseased beforeAI           (  580): 508.01 min\n",
      "|   *  withinHour nonDiseased afterAI            (  348): 394.03 min\n",
      "|   *  withinHour nonDiseased afterAI AIneg      (  295): 441.87 min\n",
      "|   *  outsideHour                               ( 5862): 163.50 min\n",
      "|   *  outsideHour diseased                      (  982): 152.67 min\n",
      "|   *  outsideHour diseased beforeAI             (  506): 187.72 min\n",
      "|   *  outsideHour diseased afterAI              (  476): 125.34 min\n",
      "|   *  outsideHour diseased afterAI AIpos        (  304): 138.93 min\n",
      "|   *  outsideHour diseased afterAI AIneg        (  130): 231.52 min\n",
      "|   *  outsideHour nonDiseased                   ( 4880): 166.97 min\n",
      "|   *  outsideHour nonDiseased beforeAI          ( 2959): 188.00 min\n",
      "|   *  outsideHour nonDiseased afterAI           ( 1921): 138.57 min\n",
      "|   *  outsideHour nonDiseased afterAI AIneg     ( 1712): 136.55 min\n",
      "|   *  diseased                                  ( 1191): 178.05 min\n",
      "|   *  diseased beforeAI                         (  628): 217.07 min\n",
      "|   *  diseased afterAI                          (  563): 144.64 min\n",
      "|   *  diseased afterAI AIpos                    (  361): 151.80 min\n",
      "|   *  diseased afterAI AIneg                    (  151): 165.42 min\n",
      "|   *  nonDiseased                               ( 5808): 183.71 min\n",
      "|   *  nonDiseased beforeAI                      ( 3539): 204.51 min\n",
      "|   *  nonDiseased afterAI                       ( 2269): 152.29 min\n",
      "|   *  nonDiseased afterAI AIneg                 ( 2007): 149.97 min\n",
      "|   *  beforeAI                                  ( 4167): 206.89 min\n",
      "|   *  afterAI                                   ( 2832): 150.40 min\n",
      "|   *  afterAI AIpos                             (  405): 148.63 min\n",
      "|   *  afterAI AIneg                             ( 2158): 148.12 min\n",
      "\n",
      "+----------------------------------------------------------------------------\n",
      "| Average service time by Staff Radiologist:\n",
      "|   *  overall average time                     : 8.08 min\n",
      "|   *  outsideHour                              : 7.85 min\n",
      "|   *  outsideHour nonDiseased                  : 5.44 min\n",
      "|   *  outsideHour nonDiseased afterAI          : 6.35 min\n",
      "|   *  outsideHour nonDiseased afterAI AIneg    : 6.93 min\n",
      "|   *  nonDiseased                              : 7.09 min\n",
      "|   *  nonDiseased beforeAI                     : 13.12 min\n",
      "|   *  nonDiseased afterAI                      : 6.74 min\n",
      "|   *  nonDiseased afterAI AIneg                : 14.64 min\n",
      "|   *  beforeAI                                 : 16.97 min\n",
      "|   *  afterAI                                  : 7.76 min\n",
      "|   *  afterAI AIneg                            : 13.90 min\n",
      "\n",
      "+----------------------------------------------------------------------------\n",
      "| Average service time by Resident Radiologist:\n",
      "|   *  overall average time                     : 11.94 min\n",
      "|   *  outsideHour                              : 11.86 min\n",
      "|   *  outsideHour nonDiseased                  : 10.43 min\n",
      "|   *  outsideHour nonDiseased beforeAI         : 10.77 min\n",
      "|   *  nonDiseased                              : 10.91 min\n",
      "|   *  nonDiseased beforeAI                     : 10.03 min\n",
      "|   *  beforeAI                                 : 11.70 min\n",
      "\n",
      "\n"
     ]
    }
   ],
   "source": [
    "text = report_results()\r\n",
    "print (text)\r\n",
    "\r\n",
    "with open(\"../report.txt\", mode = \"w\") as f:\r\n",
    "    f.write (text)\r\n",
    "f.close()"
   ]
  },
  {
   "cell_type": "code",
   "execution_count": null,
   "metadata": {},
   "outputs": [],
   "source": []
  }
 ],
 "metadata": {
  "kernelspec": {
   "display_name": "Python 3.9.4 64-bit ('py39': venv)",
   "language": "python",
   "name": "python394jvsc74a57bd05680a33acd46d5417d2627063e433bed62ec1ebaaea3142211f94670c997a1f4"
  },
  "language_info": {
   "codemirror_mode": {
    "name": "ipython",
    "version": 3
   },
   "file_extension": ".py",
   "mimetype": "text/x-python",
   "name": "python",
   "nbconvert_exporter": "python",
   "pygments_lexer": "ipython3",
   "version": "3.9.4"
  },
  "metadata": {
   "interpreter": {
    "hash": "ac59ebe37160ed0dfa835113d9b8498d9f09ceb179beaac4002f036b9467c963"
   }
  },
  "orig_nbformat": 2
 },
 "nbformat": 4,
 "nbformat_minor": 2
}